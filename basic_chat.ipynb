{
  "nbformat": 4,
  "nbformat_minor": 0,
  "metadata": {
    "colab": {
      "provenance": [],
      "gpuType": "T4",
      "authorship_tag": "ABX9TyMli2cnGLgxrDGSquZIka9t",
      "include_colab_link": true
    },
    "kernelspec": {
      "name": "python3",
      "display_name": "Python 3"
    },
    "language_info": {
      "name": "python"
    },
    "accelerator": "GPU"
  },
  "cells": [
    {
      "cell_type": "markdown",
      "metadata": {
        "id": "view-in-github",
        "colab_type": "text"
      },
      "source": [
        "<a href=\"https://colab.research.google.com/github/Akshaay23/Imformation_Retrival_system/blob/main/basic_chat.ipynb\" target=\"_parent\"><img src=\"https://colab.research.google.com/assets/colab-badge.svg\" alt=\"Open In Colab\"/></a>"
      ]
    },
    {
      "cell_type": "code",
      "execution_count": 4,
      "metadata": {
        "colab": {
          "base_uri": "https://localhost:8080/"
        },
        "id": "aGP_vPkB6VOq",
        "outputId": "6b899dbe-a9ae-4966-950f-f11d2005f343"
      },
      "outputs": [
        {
          "output_type": "stream",
          "name": "stdout",
          "text": [
            "\u001b[?25l   \u001b[90m━━━━━━━━━━━━━━━━━━━━━━━━━━━━━━━━━━━━━━━━\u001b[0m \u001b[32m0.0/126.7 kB\u001b[0m \u001b[31m?\u001b[0m eta \u001b[36m-:--:--\u001b[0m\r\u001b[2K   \u001b[90m━━━━━━━━━━━━━━━━━━━━━━━━━━━━━━━━━━━━━━━━\u001b[0m \u001b[32m126.7/126.7 kB\u001b[0m \u001b[31m11.9 MB/s\u001b[0m eta \u001b[36m0:00:00\u001b[0m\n",
            "\u001b[?25h"
          ]
        }
      ],
      "source": [
        "! pip install -q langchain langchain_groq"
      ]
    },
    {
      "cell_type": "code",
      "source": [
        "from google.colab import userdata\n",
        "from langchain_groq import ChatGroq\n",
        "from langchain_core.messages import HumanMessage, SystemMessage\n",
        "from langchain_core.prompts import ChatPromptTemplate\n",
        "from langchain_core.output_parsers import StrOutputParser\n",
        "import os\n",
        "os.environ['GROQ_API_KEY'] = userdata.get('groq')"
      ],
      "metadata": {
        "id": "HRImey_H60fm"
      },
      "execution_count": 9,
      "outputs": []
    },
    {
      "cell_type": "code",
      "source": [
        "model = ChatGroq(  model=\"llama-3.3-70b-versatile\", temperature=0)"
      ],
      "metadata": {
        "id": "oBlU9Vvk8WIY"
      },
      "execution_count": 5,
      "outputs": []
    },
    {
      "cell_type": "code",
      "source": [
        "message = [\n",
        "          SystemMessage (content=\"Translate the following from english to marathi\"),\n",
        "          HumanMessage (content=\"are you take a dinner!\")\n",
        "           ]\n",
        "response = model.invoke(message)\n",
        "print(response)"
      ],
      "metadata": {
        "colab": {
          "base_uri": "https://localhost:8080/"
        },
        "id": "xAtqQOWU8p34",
        "outputId": "5350eb82-ddbf-4da1-f5c7-f641d2dfa285"
      },
      "execution_count": 6,
      "outputs": [
        {
          "output_type": "stream",
          "name": "stdout",
          "text": [
            "content='तुम्ही जेवण घेत आहात का?' additional_kwargs={} response_metadata={'token_usage': {'completion_tokens': 16, 'prompt_tokens': 49, 'total_tokens': 65, 'completion_time': 0.06941541, 'prompt_time': 0.003728964, 'queue_time': 0.219957254, 'total_time': 0.073144374}, 'model_name': 'llama-3.3-70b-versatile', 'system_fingerprint': 'fp_3f3b593e33', 'finish_reason': 'stop', 'logprobs': None} id='run-bb3991e8-dd4a-403e-81d3-6a6a8a36e313-0' usage_metadata={'input_tokens': 49, 'output_tokens': 16, 'total_tokens': 65}\n"
          ]
        }
      ]
    },
    {
      "cell_type": "code",
      "source": [
        "prompt= ChatPromptTemplate.from_messages([\n",
        "                                          (\"system\",'Translate the following from english into{output_language}'),\n",
        "                                          (\"human\", \"{text}\"),\n",
        "])\n",
        "print(prompt)\n",
        "user_input = input(\"Enter the text to translate:\")\n",
        "output_language = input(\"Enter the output language:\")\n",
        "#print(prompt.invoke(text=user_input, output_language=output_language))\n",
        "\n",
        "chain = prompt | model | StrOutputParser()\n",
        "response = chain.invoke({'text':user_input, 'output_language': output_language})\n",
        "print(response)"
      ],
      "metadata": {
        "colab": {
          "base_uri": "https://localhost:8080/"
        },
        "id": "OjeC7Fcj_5_d",
        "outputId": "a9110f78-9bed-4715-c913-f1c0c6f36c31"
      },
      "execution_count": 12,
      "outputs": [
        {
          "output_type": "stream",
          "name": "stdout",
          "text": [
            "input_variables=['output_language', 'text'] input_types={} partial_variables={} messages=[SystemMessagePromptTemplate(prompt=PromptTemplate(input_variables=['output_language'], input_types={}, partial_variables={}, template='Translate the following from english into{output_language}'), additional_kwargs={}), HumanMessagePromptTemplate(prompt=PromptTemplate(input_variables=['text'], input_types={}, partial_variables={}, template='{text}'), additional_kwargs={})]\n",
            "Enter the text to translate:marathi\n",
            "Enter the output language:you are so beautiful\n",
            "तू खूप सुंदर आहेस (Tu khup sundar aahes)\n"
          ]
        }
      ]
    },
    {
      "cell_type": "code",
      "source": [],
      "metadata": {
        "id": "qtCzj47oDgvC"
      },
      "execution_count": null,
      "outputs": []
    }
  ]
}